{
 "cells": [
  {
   "cell_type": "code",
   "execution_count": 16,
   "id": "19b6ac51-58f9-4f2f-9e87-6a66aef4be86",
   "metadata": {},
   "outputs": [],
   "source": [
    "#1.swap of two numbers without using third variable\n",
    "x=23\n",
    "y=45\n",
    "x,y=y,x"
   ]
  },
  {
   "cell_type": "code",
   "execution_count": 17,
   "id": "7b915a3c-f0fe-4349-9f13-10e6bd1e5765",
   "metadata": {},
   "outputs": [
    {
     "data": {
      "text/plain": [
       "45"
      ]
     },
     "execution_count": 17,
     "metadata": {},
     "output_type": "execute_result"
    }
   ],
   "source": [
    "x"
   ]
  },
  {
   "cell_type": "code",
   "execution_count": 18,
   "id": "ae825236-198c-451d-bb7b-dd4ebf86c72e",
   "metadata": {},
   "outputs": [
    {
     "data": {
      "text/plain": [
       "23"
      ]
     },
     "execution_count": 18,
     "metadata": {},
     "output_type": "execute_result"
    }
   ],
   "source": [
    "y"
   ]
  },
  {
   "cell_type": "code",
   "execution_count": 6,
   "id": "0801eb72-3c0e-4f37-86a4-e83ebc0b0b76",
   "metadata": {},
   "outputs": [
    {
     "name": "stdin",
     "output_type": "stream",
     "text": [
      "enter length of area: 12\n",
      "width length of area: 222\n"
     ]
    },
    {
     "data": {
      "text/plain": [
       "2664.0"
      ]
     },
     "execution_count": 6,
     "metadata": {},
     "output_type": "execute_result"
    }
   ],
   "source": [
    "#2.area of rectangle\n",
    "l=float(input('enter length of area:'))\n",
    "w=float(input('width length of area:'))\n",
    "Area = l * w #formulla for calculating area of rectangle\n",
    "Area"
   ]
  },
  {
   "cell_type": "code",
   "execution_count": 7,
   "id": "cc6fe560-fb79-4c29-8f31-d9aa8af539f8",
   "metadata": {},
   "outputs": [
    {
     "name": "stdin",
     "output_type": "stream",
     "text": [
      "Enter Temperature value in degree Celsius:  33\n"
     ]
    },
    {
     "data": {
      "text/plain": [
       "91.4"
      ]
     },
     "execution_count": 7,
     "metadata": {},
     "output_type": "execute_result"
    }
   ],
   "source": [
    "#3. conversion of temperature\n",
    "celsius = float(input(\"Enter Temperature value in degree Celsius: \" ))  \n",
    "Farhenheit = (celsius * 1.8) + 32  #formulla for converting degree celsius into farhenheit\n",
    "Farhenheit"
   ]
  },
  {
   "cell_type": "code",
   "execution_count": 8,
   "id": "66c3fc08-bab1-4da3-bc07-8b5a5d4b5aa7",
   "metadata": {},
   "outputs": [
    {
     "name": "stdin",
     "output_type": "stream",
     "text": [
      "Enter the string: abcdefghijklmnopqrstuvwxyz\n"
     ]
    },
    {
     "data": {
      "text/plain": [
       "26"
      ]
     },
     "execution_count": 8,
     "metadata": {},
     "output_type": "execute_result"
    }
   ],
   "source": [
    "#4.calculate string length \n",
    "s=str(input(\"Enter the string:\"))\n",
    "len(s)"
   ]
  },
  {
   "cell_type": "code",
   "execution_count": 9,
   "id": "634060d5-52e2-4af4-81cc-d8912cb60ca5",
   "metadata": {},
   "outputs": [
    {
     "name": "stdin",
     "output_type": "stream",
     "text": [
      "Enter the sentence: aeiou AqdnjdcUsjnnsn\n"
     ]
    },
    {
     "data": {
      "text/plain": [
       "7"
      ]
     },
     "execution_count": 9,
     "metadata": {},
     "output_type": "execute_result"
    }
   ],
   "source": [
    "#5.count the number of vowels in the sentence\n",
    "s1=str(input(\"Enter the sentence:\"))\n",
    "count=0\n",
    "vowels = [\"a\", \"e\", \"i\", \"o\", \"u\",\"A\",\"E\",\"I\",\"O\",\"U\"] #we are providing the list of vowels to system so that it can count\n",
    "for i in range(len(s1)): \n",
    "    if s1[i] in vowels:\n",
    "        count += 1 #whenever vowel occurs the count is increased by 1\n",
    "count"
   ]
  },
  {
   "cell_type": "code",
   "execution_count": 10,
   "id": "5e4c1245-cc16-46d9-b1d4-2c7cc0ddd7e1",
   "metadata": {},
   "outputs": [
    {
     "data": {
      "text/plain": [
       "'hctab orp ecneics atad kcats lluf sllikswp eht morf sessalc gnikat ma i'"
      ]
     },
     "execution_count": 10,
     "metadata": {},
     "output_type": "execute_result"
    }
   ],
   "source": [
    "# 6.print the reversal string\n",
    "s2=\"i am taking classes from the pwskills full stack data science pro batch\"\n",
    "s3=s2[::-1] # we are saving the reversal of string in s3 variable\n",
    "s3 #print the reversal of alphabets"
   ]
  },
  {
   "cell_type": "code",
   "execution_count": 12,
   "id": "04dfc9c2-bd6b-4819-ac8d-c097c5837a0f",
   "metadata": {},
   "outputs": [
    {
     "name": "stdin",
     "output_type": "stream",
     "text": [
      "Enter a string:  ababa\n"
     ]
    },
    {
     "name": "stdout",
     "output_type": "stream",
     "text": [
      "The input is a palindrome.\n"
     ]
    }
   ],
   "source": [
    "#.7.palindrome check\n",
    "def is_palindrome(s4): # function to check palindrome\n",
    "    s4 = s4.lower().replace(\" \", \"\")  # Convert to lowercase and remove spaces\n",
    "    return s4 == s4[::-1]\n",
    "\n",
    "def check_palindrome(s4): \n",
    "    if is_palindrome(s4): #condition to check the palindrome\n",
    "        return \"The input is a palindrome.\"\n",
    "    else:\n",
    "        return \"The input is not a palindrome.\"\n",
    "\n",
    "s4 = input(\"Enter a string: \")\n",
    "result = check_palindrome(s4)\n",
    "print(result)\n",
    "\n"
   ]
  },
  {
   "cell_type": "code",
   "execution_count": 13,
   "id": "24574693-c371-40ab-97f0-c7637fc07dd1",
   "metadata": {},
   "outputs": [
    {
     "name": "stdin",
     "output_type": "stream",
     "text": [
      "Enter a string:  ,mnnsakjwab    knn  kanjkalk  ka \n"
     ]
    },
    {
     "name": "stdout",
     "output_type": "stream",
     "text": [
      "Modified string without spaces: ,mnnsakjwabknnkanjkalkka\n"
     ]
    }
   ],
   "source": [
    "#8.Print the modified string without spaces.\n",
    "s5 = input(\"Enter a string: \")\n",
    "s6 = s5.replace(\" \", \"\") #replaces the spaces with no spaces\n",
    "print(\"Modified string without spaces:\", s6)\n",
    "\n"
   ]
  },
  {
   "cell_type": "code",
   "execution_count": null,
   "id": "be602328-e103-421d-b853-870b43f15b7d",
   "metadata": {},
   "outputs": [],
   "source": []
  }
 ],
 "metadata": {
  "kernelspec": {
   "display_name": "Python 3 (ipykernel)",
   "language": "python",
   "name": "python3"
  },
  "language_info": {
   "codemirror_mode": {
    "name": "ipython",
    "version": 3
   },
   "file_extension": ".py",
   "mimetype": "text/x-python",
   "name": "python",
   "nbconvert_exporter": "python",
   "pygments_lexer": "ipython3",
   "version": "3.10.8"
  }
 },
 "nbformat": 4,
 "nbformat_minor": 5
}
